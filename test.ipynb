{
 "cells": [
  {
   "cell_type": "code",
   "execution_count": 8,
   "metadata": {},
   "outputs": [
    {
     "ename": "TypeError",
     "evalue": "measurement.round_it() takes 2 positional arguments but 3 were given",
     "output_type": "error",
     "traceback": [
      "\u001b[1;31m---------------------------------------------------------------------------\u001b[0m",
      "\u001b[1;31mTypeError\u001b[0m                                 Traceback (most recent call last)",
      "Input \u001b[1;32mIn [8]\u001b[0m, in \u001b[0;36m<cell line: 33>\u001b[1;34m()\u001b[0m\n\u001b[0;32m     28\u001b[0m         \u001b[38;5;28mself\u001b[39m\u001b[38;5;241m.\u001b[39mround_it(\u001b[38;5;28mfloat\u001b[39m(value), \u001b[38;5;28mint\u001b[39m(importantdigits))\n\u001b[0;32m     29\u001b[0m         \u001b[38;5;28;01mreturn\u001b[39;00m (value,importantdigits,error,\u001b[38;5;28mself\u001b[39m\u001b[38;5;241m.\u001b[39munit\u001b[38;5;241m+\u001b[39m\u001b[38;5;124m\"\u001b[39m\u001b[38;5;124m*\u001b[39m\u001b[38;5;124m\"\u001b[39m\u001b[38;5;241m+\u001b[39m\u001b[38;5;28mself\u001b[39m\u001b[38;5;241m.\u001b[39munit)\n\u001b[1;32m---> 33\u001b[0m a \u001b[38;5;241m=\u001b[39m \u001b[43mmeasurement\u001b[49m\u001b[43m(\u001b[49m\u001b[38;5;241;43m14.199\u001b[39;49m\u001b[43m,\u001b[49m\u001b[38;5;241;43m5\u001b[39;49m\u001b[43m,\u001b[49m\u001b[38;5;241;43m0.001\u001b[39;49m\u001b[43m,\u001b[49m\u001b[38;5;124;43m\"\u001b[39;49m\u001b[38;5;124;43mcm\u001b[39;49m\u001b[38;5;124;43m\"\u001b[39;49m\u001b[43m)\u001b[49m\u001b[38;5;241;43m*\u001b[39;49m\u001b[43mmeasurement\u001b[49m\u001b[43m(\u001b[49m\u001b[38;5;241;43m14.1\u001b[39;49m\u001b[43m,\u001b[49m\u001b[38;5;241;43m5\u001b[39;49m\u001b[43m,\u001b[49m\u001b[38;5;241;43m0.001\u001b[39;49m\u001b[43m,\u001b[49m\u001b[38;5;124;43m\"\u001b[39;49m\u001b[38;5;124;43mcm\u001b[39;49m\u001b[38;5;124;43m\"\u001b[39;49m\u001b[43m)\u001b[49m\n\u001b[0;32m     34\u001b[0m \u001b[38;5;28mprint\u001b[39m(measurement(a[\u001b[38;5;241m0\u001b[39m],a[\u001b[38;5;241m1\u001b[39m],a[\u001b[38;5;241m2\u001b[39m],a[\u001b[38;5;241m3\u001b[39m]))\n",
      "Input \u001b[1;32mIn [8]\u001b[0m, in \u001b[0;36mmeasurement.__mul__\u001b[1;34m(self, _measurement__x)\u001b[0m\n\u001b[0;32m     25\u001b[0m importantdigits \u001b[38;5;241m=\u001b[39m \u001b[38;5;28mmin\u001b[39m(\u001b[38;5;28mself\u001b[39m\u001b[38;5;241m.\u001b[39mimpd,__x\u001b[38;5;241m.\u001b[39mimpd)\n\u001b[0;32m     26\u001b[0m error \u001b[38;5;241m=\u001b[39m \u001b[38;5;28mself\u001b[39m\u001b[38;5;241m.\u001b[39merror\n\u001b[1;32m---> 28\u001b[0m \u001b[38;5;28;43mself\u001b[39;49m\u001b[38;5;241;43m.\u001b[39;49m\u001b[43mround_it\u001b[49m\u001b[43m(\u001b[49m\u001b[38;5;28;43mfloat\u001b[39;49m\u001b[43m(\u001b[49m\u001b[43mvalue\u001b[49m\u001b[43m)\u001b[49m\u001b[43m,\u001b[49m\u001b[43m \u001b[49m\u001b[38;5;28;43mint\u001b[39;49m\u001b[43m(\u001b[49m\u001b[43mimportantdigits\u001b[49m\u001b[43m)\u001b[49m\u001b[43m)\u001b[49m\n\u001b[0;32m     29\u001b[0m \u001b[38;5;28;01mreturn\u001b[39;00m (value,importantdigits,error,\u001b[38;5;28mself\u001b[39m\u001b[38;5;241m.\u001b[39munit\u001b[38;5;241m+\u001b[39m\u001b[38;5;124m\"\u001b[39m\u001b[38;5;124m*\u001b[39m\u001b[38;5;124m\"\u001b[39m\u001b[38;5;241m+\u001b[39m\u001b[38;5;28mself\u001b[39m\u001b[38;5;241m.\u001b[39munit)\n",
      "\u001b[1;31mTypeError\u001b[0m: measurement.round_it() takes 2 positional arguments but 3 were given"
     ]
    }
   ],
   "source": [
    "from copy import error\n",
    "import math\n",
    "import sympy\n",
    "\n",
    "class measurement(float):\n",
    "    def round_it(x, sig):\n",
    "        return round(x, sig-int(math.floor(math.log10(abs(x))))-1)\n",
    "    def limittosigfig(self):\n",
    "        sfig = (str(self.value)+(self.impd*\"0\"))[:self.impd+1]\n",
    "        return sfig\n",
    "    def __new__(self, value, importantdigits,error,unit):\n",
    "        value = float(format(value,'.'+str(importantdigits+1)+'g'))\n",
    "        self.value = value\n",
    "        return float.__new__(self,value)\n",
    "    def __init__(self, value, importantdigits,error,unit):\n",
    "        self.error = error\n",
    "        self.impd = importantdigits\n",
    "        self.unit = unit\n",
    "        float.__init__(value)\n",
    "    def __str__(self):\n",
    "        return self.limittosigfig()+self.unit+ \" +- \"+str(self.error) + self.unit\n",
    "        \n",
    "    def __mul__(self, __x) :\n",
    "        value = super().__mul__(__x)\n",
    "        importantdigits = min(self.impd,__x.impd)\n",
    "        error = self.error\n",
    "        \n",
    "        self.round_it(float(value), int(importantdigits))\n",
    "        return (value,importantdigits,error,self.unit+\"*\"+self.unit)\n",
    "\n",
    "    \n",
    "        \n",
    "a = measurement(14.199,5,0.001,\"cm\")*measurement(14.1,5,0.001,\"cm\")\n",
    "print(measurement(a[0],a[1],a[2],a[3]))\n",
    "    "
   ]
  },
  {
   "cell_type": "markdown",
   "metadata": {},
   "source": []
  },
  {
   "cell_type": "code",
   "execution_count": null,
   "metadata": {},
   "outputs": [
    {
     "ename": "NameError",
     "evalue": "name 'self' is not defined",
     "output_type": "error",
     "traceback": [
      "\u001b[1;31m---------------------------------------------------------------------------\u001b[0m",
      "\u001b[1;31mNameError\u001b[0m                                 Traceback (most recent call last)",
      "Input \u001b[1;32mIn [6]\u001b[0m, in \u001b[0;36m<cell line: 1>\u001b[1;34m()\u001b[0m\n\u001b[1;32m----> 1\u001b[0m \u001b[38;5;28;43mself\u001b[39;49m\u001b[38;5;241m.\u001b[39mround_it(\u001b[38;5;28mfloat\u001b[39m(value), \u001b[38;5;28mint\u001b[39m(importantdigits))\n\u001b[0;32m      2\u001b[0m \u001b[38;5;28;01mreturn\u001b[39;00m (value,importantdigits,error,\u001b[38;5;28mself\u001b[39m\u001b[38;5;241m.\u001b[39munit\u001b[38;5;241m+\u001b[39m\u001b[38;5;124m\"\u001b[39m\u001b[38;5;124m*\u001b[39m\u001b[38;5;124m\"\u001b[39m\u001b[38;5;241m+\u001b[39m\u001b[38;5;28mself\u001b[39m\u001b[38;5;241m.\u001b[39munit)\n\u001b[0;32m      6\u001b[0m a \u001b[38;5;241m=\u001b[39m measurement(\u001b[38;5;241m14.199\u001b[39m,\u001b[38;5;241m5\u001b[39m,\u001b[38;5;241m0.001\u001b[39m,\u001b[38;5;124m\"\u001b[39m\u001b[38;5;124mcm\u001b[39m\u001b[38;5;124m\"\u001b[39m)\u001b[38;5;241m*\u001b[39mmeasurement(\u001b[38;5;241m14.1\u001b[39m,\u001b[38;5;241m5\u001b[39m,\u001b[38;5;241m0.001\u001b[39m,\u001b[38;5;124m\"\u001b[39m\u001b[38;5;124mcm\u001b[39m\u001b[38;5;124m\"\u001b[39m)\n",
      "\u001b[1;31mNameError\u001b[0m: name 'self' is not defined"
     ]
    }
   ],
   "source": []
  }
 ],
 "metadata": {
  "interpreter": {
   "hash": "b89b5cfaba6639976dc87ff2fec6d58faec662063367e2c229c520fe71072417"
  },
  "kernelspec": {
   "display_name": "Python 3.10.0 64-bit",
   "language": "python",
   "name": "python3"
  },
  "language_info": {
   "codemirror_mode": {
    "name": "ipython",
    "version": 3
   },
   "file_extension": ".py",
   "mimetype": "text/x-python",
   "name": "python",
   "nbconvert_exporter": "python",
   "pygments_lexer": "ipython3",
   "version": "3.10.0"
  },
  "orig_nbformat": 4
 },
 "nbformat": 4,
 "nbformat_minor": 2
}
